{
 "cells": [
  {
   "cell_type": "code",
   "execution_count": 11,
   "metadata": {},
   "outputs": [],
   "source": [
    "import numpy as np\n",
    "import pandas as pd\n",
    "import datetime\n",
    "\n",
    "# work_time_table = pd.read_csv('./근무시간_테이블.csv')"
   ]
  },
  {
   "cell_type": "code",
   "execution_count": 30,
   "metadata": {},
   "outputs": [],
   "source": [
    "df = pd.DataFrame(columns = ['date', 'month', 'week_num', 'week_day', 'start_time', 'end_time', 'spend_time', 'rest_time'])"
   ]
  },
  {
   "cell_type": "code",
   "execution_count": 73,
   "metadata": {},
   "outputs": [],
   "source": [
    "class working_time_calculator:\n",
    "    def __init__(self):\n",
    "#         self.work_time_table = pd.read_csv(file_path)\n",
    "        self.work_time_table = pd.DataFrame(columns = ['date', 'month', 'week_num', 'weekday', 'start_time', 'end_time', 'spend_time', 'rest_time'])\n",
    "        self.rest_time = 1\n",
    "        \n",
    "        self.days_dic = {\n",
    "                            1: '월요일',\n",
    "                            2: '화요일',\n",
    "                            3: '수요일',\n",
    "                            4: '목요일',\n",
    "                            5: '금요일',\n",
    "                            6: '토요일',\n",
    "                            7: '일요일'\n",
    "        }\n",
    "        \n",
    "        return\n",
    "    \n",
    "    # 현재 시점 기준으로 업무 시작, 종료를 입력하는 함수\n",
    "    def work_start(self, start_time = None):\n",
    "        if start_time == None:\n",
    "            start_time = datetime.datetime.now()\n",
    "            \n",
    "        else:\n",
    "            start_time = datetime.datetime.fromisoformat(start_time)\n",
    "            \n",
    "        date = datetime.datetime.strftime(start_time, '%Y%m%d')\n",
    "        month = datetime.datetime.strftime(start_time, '%Y%m')\n",
    "        week_num = start_time.isocalendar()[1]\n",
    "        week_day = self.days_dic[start_time.isoweekday()]\n",
    "        start_time = datetime.datetime.strftime(start_time, '%Y-%m-%d %H:%M')\n",
    "        \n",
    "        self.work_time_table.loc[len(self.work_time_table)] =\\\n",
    "        [date, month, week_num, week_day, start_time, np.nan, np.nan, self.rest_time]\n",
    "        \n",
    "        return\n",
    "        \n",
    "    def work_end(self, end_time = None):\n",
    "        if end_time == None:\n",
    "            end_time = datetime.datetime.now()\n",
    "        \n",
    "        else:\n",
    "            end_time = datetime.datetime.fromisoformat(end_time)\n",
    "        \n",
    "        # end_time이 24시를 넘겼을 경우에 대한 고려가 필요\n",
    "        date \n",
    "        \n",
    "        input_time = datetime.datetime.now()\n",
    "        \n",
    "        input_day = datetime.datetime.strftime(input_time, '%Y%m%d')\n",
    "        input_time = datetime.datetime.strftime(input_time, '%Y-%m-%d %H:%M')\n",
    "        \n",
    "        # spend time 계산\n",
    "        start_time = self.work_time_table.loc[self.work_time_table['date'] == input_day]['start_time'].values[0]\n",
    "        \n",
    "        start_time = datetime.datetime.fromisoformat(start_time)\n",
    "        end_time = datetime.datetime.fromisoformat(input_time)\n",
    "        \n",
    "        spend_time = end_time - start_time - datetime.timedelta(hours = 1)\n",
    "        spend_time = spend_time.total_seconds()\n",
    "        \n",
    "        # 한시간을 안넘을 경우, - 값이 나와서 값이 정확하게 안나옴\n",
    "        if spend_time >= 0:\n",
    "            spend_hours = int(spend_time // 3600)\n",
    "            spend_minutes = int((spend_time % 3600) // 60)\n",
    "\n",
    "            spend_time = f'{spend_hours:02d}:{spend_minutes:02d}'\n",
    "        \n",
    "        else:\n",
    "            spend_hours = int(abs(spend_time) // 3600)\n",
    "            spend_minutes = int((abs(spend_time) % 3600) // 60)\n",
    "            \n",
    "            spend_time = f'-{spend_hours:02d}:{spend_minutes:02d}'\n",
    "        \n",
    "        # input\n",
    "        self.work_time_table.loc[self.work_time_table['date'] == input_day, ('end_time', 'spend_time')] = (input_time, spend_time)\n",
    "        \n",
    "        return\n",
    "\n",
    "    def insert_work_time(self, start_time, end_time = '', rest_time = 1, input_day = None): # time은 HH:MM 형태의 스트링으로 입력\n",
    "        # 날짜 계산\n",
    "        if input_day == None:\n",
    "            input_day = datetime.datetime.now()\n",
    "\n",
    "            input_weekday = self.days_dic[input_day.isoweekday()]\n",
    "            input_weeknum = input_day.isocalendar()[1]\n",
    "            input_day = datetime.datetime.strftime(input_day, '%Y%m%d')\n",
    "\n",
    "        else:\n",
    "            input_weekday = days_dic[datetime.datetime.strptime(input_day, '%Y%m%d').isoweekday()]\n",
    "            input_weeknum = input_day.isocalendar().week\n",
    "\n",
    "        # 시간 계산\n",
    "        if end_time == '': # 퇴근 시간을 입력하지 않을 경우 현재 시점으로 계산\n",
    "            end_time = datetime.datetime.now()\n",
    "#             end_time =\n",
    "\n",
    "\n",
    "    def get_end_time(self, plan_time):\n",
    "        \n",
    "        finish_time_h = ''\n",
    "        finish_time_m = ''\n",
    "        print(f\"오늘의 퇴근 예정 시간은 {int(finish_time_h):02d}:{int(finish_time_m)} 입니다.\")\n",
    "        return"
   ]
  },
  {
   "cell_type": "code",
   "execution_count": 100,
   "metadata": {},
   "outputs": [],
   "source": [
    "a = working_time_calculator()"
   ]
  },
  {
   "cell_type": "code",
   "execution_count": null,
   "metadata": {},
   "outputs": [],
   "source": []
  },
  {
   "cell_type": "code",
   "execution_count": null,
   "metadata": {},
   "outputs": [],
   "source": []
  },
  {
   "cell_type": "code",
   "execution_count": null,
   "metadata": {},
   "outputs": [],
   "source": []
  },
  {
   "cell_type": "code",
   "execution_count": null,
   "metadata": {},
   "outputs": [],
   "source": []
  },
  {
   "cell_type": "code",
   "execution_count": null,
   "metadata": {},
   "outputs": [],
   "source": []
  },
  {
   "cell_type": "code",
   "execution_count": null,
   "metadata": {},
   "outputs": [],
   "source": []
  },
  {
   "cell_type": "code",
   "execution_count": null,
   "metadata": {},
   "outputs": [],
   "source": []
  },
  {
   "cell_type": "code",
   "execution_count": null,
   "metadata": {},
   "outputs": [],
   "source": []
  },
  {
   "cell_type": "code",
   "execution_count": 2,
   "metadata": {},
   "outputs": [
    {
     "name": "stdout",
     "output_type": "stream",
     "text": [
      "오늘의 퇴근 예정 시간은 16:55 입니다.\n"
     ]
    }
   ],
   "source": [
    "start_time = '09:42'\n",
    "time_plan = '6:13'\n",
    "\n",
    "start_hour = int(start_time.split(':')[0])\n",
    "start_minute = int(start_time.split(':')[1])\n",
    "start_time = datetime.timedelta(\n",
    "                                hours = start_hour,\n",
    "                                minutes = start_minute\n",
    ")\n",
    "\n",
    "plan_hour = int(time_plan.split(':')[0])\n",
    "plan_minute = int(time_plan.split(':')[1])\n",
    "plan_time = datetime.timedelta(\n",
    "                                hours = plan_hour,\n",
    "                                minutes = plan_minute\n",
    ")\n",
    "\n",
    "break_time = datetime.timedelta(hours = 1)\n",
    "\n",
    "finish_time = start_time + plan_time + break_time\n",
    "finish_time_h = finish_time.total_seconds() // 3600\n",
    "finish_time_m = (finish_time.total_seconds() % 3600) // 60\n",
    "print(f\"오늘의 퇴근 예정 시간은 {int(finish_time_h):02d}:{int(finish_time_m)} 입니다.\")"
   ]
  }
 ],
 "metadata": {
  "kernelspec": {
   "display_name": "Python 3",
   "language": "python",
   "name": "python3"
  },
  "language_info": {
   "codemirror_mode": {
    "name": "ipython",
    "version": 3
   },
   "file_extension": ".py",
   "mimetype": "text/x-python",
   "name": "python",
   "nbconvert_exporter": "python",
   "pygments_lexer": "ipython3",
   "version": "3.8.1"
  }
 },
 "nbformat": 4,
 "nbformat_minor": 5
}
