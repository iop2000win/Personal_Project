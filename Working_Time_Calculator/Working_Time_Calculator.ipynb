{
 "cells": [
  {
   "cell_type": "code",
   "execution_count": 1,
   "id": "af6a485c",
   "metadata": {},
   "outputs": [],
   "source": [
    "import pandas as pd\n",
    "import datetime\n",
    "\n",
    "# work_time_table = pd.read_csv('./근무시간_테이블.csv')"
   ]
  },
  {
   "cell_type": "code",
   "execution_count": 3,
   "id": "4b2897c7",
   "metadata": {},
   "outputs": [],
   "source": [
    "# 날짜로 요일 계산하기\n",
    "days_dic = {\n",
    "    1: '월요일',\n",
    "    2: '화요일',\n",
    "    3: '수요일',\n",
    "    4: '목요일',\n",
    "    5: '금요일',\n",
    "    6: '토요일',\n",
    "    7: '일요일'\n",
    "}"
   ]
  },
  {
   "cell_type": "code",
   "execution_count": 10,
   "id": "82dc8752",
   "metadata": {},
   "outputs": [],
   "source": [
    "now = datetime.datetime.now()\n",
    "\n",
    "today = datetime.datetime.strftime(now, '%Y%m%d')\n",
    "today_weekday = days_dic[now.isoweekday()]"
   ]
  },
  {
   "cell_type": "code",
   "execution_count": 24,
   "id": "9c840503",
   "metadata": {},
   "outputs": [
    {
     "data": {
      "text/plain": [
       "18"
      ]
     },
     "execution_count": 24,
     "metadata": {},
     "output_type": "execute_result"
    }
   ],
   "source": [
    "now.isocalendar().week"
   ]
  },
  {
   "cell_type": "code",
   "execution_count": 23,
   "id": "78271844",
   "metadata": {},
   "outputs": [
    {
     "data": {
      "text/plain": [
       "2"
      ]
     },
     "execution_count": 23,
     "metadata": {},
     "output_type": "execute_result"
    }
   ],
   "source": [
    "now.isoweekday()"
   ]
  },
  {
   "cell_type": "code",
   "execution_count": null,
   "id": "ee55d848",
   "metadata": {},
   "outputs": [],
   "source": [
    "input_day = None"
   ]
  },
  {
   "cell_type": "code",
   "execution_count": 35,
   "id": "769e5e81",
   "metadata": {},
   "outputs": [
    {
     "data": {
      "text/html": [
       "<div>\n",
       "<style scoped>\n",
       "    .dataframe tbody tr th:only-of-type {\n",
       "        vertical-align: middle;\n",
       "    }\n",
       "\n",
       "    .dataframe tbody tr th {\n",
       "        vertical-align: top;\n",
       "    }\n",
       "\n",
       "    .dataframe thead th {\n",
       "        text-align: right;\n",
       "    }\n",
       "</style>\n",
       "<table border=\"1\" class=\"dataframe\">\n",
       "  <thead>\n",
       "    <tr style=\"text-align: right;\">\n",
       "      <th></th>\n",
       "      <th>date</th>\n",
       "      <th>weekday</th>\n",
       "      <th>start_time</th>\n",
       "      <th>end_time</th>\n",
       "      <th>spend_time</th>\n",
       "      <th>rest_time</th>\n",
       "    </tr>\n",
       "  </thead>\n",
       "  <tbody>\n",
       "  </tbody>\n",
       "</table>\n",
       "</div>"
      ],
      "text/plain": [
       "Empty DataFrame\n",
       "Columns: [date, weekday, start_time, end_time, spend_time, rest_time]\n",
       "Index: []"
      ]
     },
     "execution_count": 35,
     "metadata": {},
     "output_type": "execute_result"
    }
   ],
   "source": [
    "work_time_table"
   ]
  },
  {
   "cell_type": "code",
   "execution_count": 55,
   "id": "c495c92a",
   "metadata": {},
   "outputs": [],
   "source": [
    "work_time_table.loc[0] = ['20240430', np.nan, np.nan, np.nan, np.nan, np.nan]"
   ]
  },
  {
   "cell_type": "code",
   "execution_count": 56,
   "id": "80505683",
   "metadata": {},
   "outputs": [
    {
     "data": {
      "text/html": [
       "<div>\n",
       "<style scoped>\n",
       "    .dataframe tbody tr th:only-of-type {\n",
       "        vertical-align: middle;\n",
       "    }\n",
       "\n",
       "    .dataframe tbody tr th {\n",
       "        vertical-align: top;\n",
       "    }\n",
       "\n",
       "    .dataframe thead th {\n",
       "        text-align: right;\n",
       "    }\n",
       "</style>\n",
       "<table border=\"1\" class=\"dataframe\">\n",
       "  <thead>\n",
       "    <tr style=\"text-align: right;\">\n",
       "      <th></th>\n",
       "      <th>date</th>\n",
       "      <th>weekday</th>\n",
       "      <th>start_time</th>\n",
       "      <th>end_time</th>\n",
       "      <th>spend_time</th>\n",
       "      <th>rest_time</th>\n",
       "    </tr>\n",
       "  </thead>\n",
       "  <tbody>\n",
       "    <tr>\n",
       "      <th>0</th>\n",
       "      <td>20240430</td>\n",
       "      <td>NaN</td>\n",
       "      <td>NaN</td>\n",
       "      <td>NaN</td>\n",
       "      <td>NaN</td>\n",
       "      <td>NaN</td>\n",
       "    </tr>\n",
       "  </tbody>\n",
       "</table>\n",
       "</div>"
      ],
      "text/plain": [
       "       date weekday start_time end_time spend_time rest_time\n",
       "0  20240430     NaN        NaN      NaN        NaN       NaN"
      ]
     },
     "execution_count": 56,
     "metadata": {},
     "output_type": "execute_result"
    }
   ],
   "source": [
    "work_time_table"
   ]
  },
  {
   "cell_type": "code",
   "execution_count": 68,
   "id": "d28c0450",
   "metadata": {},
   "outputs": [],
   "source": [
    "df_ = pd.DataFrame([['20240430', np.nan, np.nan, np.nan, np.nan, np.nan]],\n",
    "                   columns = ['date', 'weekday', 'start_time', 'end_time', 'spend_time', 'rest_time'])"
   ]
  },
  {
   "cell_type": "code",
   "execution_count": 69,
   "id": "89239a2b",
   "metadata": {},
   "outputs": [
    {
     "data": {
      "text/html": [
       "<div>\n",
       "<style scoped>\n",
       "    .dataframe tbody tr th:only-of-type {\n",
       "        vertical-align: middle;\n",
       "    }\n",
       "\n",
       "    .dataframe tbody tr th {\n",
       "        vertical-align: top;\n",
       "    }\n",
       "\n",
       "    .dataframe thead th {\n",
       "        text-align: right;\n",
       "    }\n",
       "</style>\n",
       "<table border=\"1\" class=\"dataframe\">\n",
       "  <thead>\n",
       "    <tr style=\"text-align: right;\">\n",
       "      <th></th>\n",
       "      <th>date</th>\n",
       "      <th>weekday</th>\n",
       "      <th>start_time</th>\n",
       "      <th>end_time</th>\n",
       "      <th>spend_time</th>\n",
       "      <th>rest_time</th>\n",
       "    </tr>\n",
       "  </thead>\n",
       "  <tbody>\n",
       "    <tr>\n",
       "      <th>0</th>\n",
       "      <td>20240430</td>\n",
       "      <td>NaN</td>\n",
       "      <td>NaN</td>\n",
       "      <td>NaN</td>\n",
       "      <td>NaN</td>\n",
       "      <td>NaN</td>\n",
       "    </tr>\n",
       "    <tr>\n",
       "      <th>0</th>\n",
       "      <td>20240430</td>\n",
       "      <td>NaN</td>\n",
       "      <td>NaN</td>\n",
       "      <td>NaN</td>\n",
       "      <td>NaN</td>\n",
       "      <td>NaN</td>\n",
       "    </tr>\n",
       "  </tbody>\n",
       "</table>\n",
       "</div>"
      ],
      "text/plain": [
       "       date weekday start_time end_time spend_time rest_time\n",
       "0  20240430     NaN        NaN      NaN        NaN       NaN\n",
       "0  20240430     NaN        NaN      NaN        NaN       NaN"
      ]
     },
     "execution_count": 69,
     "metadata": {},
     "output_type": "execute_result"
    }
   ],
   "source": [
    "pd.concat([work_time_table, df_])"
   ]
  },
  {
   "cell_type": "code",
   "execution_count": 237,
   "id": "b899258f",
   "metadata": {},
   "outputs": [],
   "source": [
    "class working_time_calculator:\n",
    "    def __init__(self):\n",
    "#         self.work_time_table = pd.read_csv(file_path)\n",
    "        self.work_time_table = pd.DataFrame(columns = ['date', 'month', 'week_num', 'weekday', 'start_time', 'end_time', 'spend_time', 'rest_time'])\n",
    "        self.rest_time = 1\n",
    "        \n",
    "        self.days_dic = {\n",
    "                            1: '월요일',\n",
    "                            2: '화요일',\n",
    "                            3: '수요일',\n",
    "                            4: '목요일',\n",
    "                            5: '금요일',\n",
    "                            6: '토요일',\n",
    "                            7: '일요일'\n",
    "        }\n",
    "        \n",
    "        return\n",
    "    \n",
    "    # 현재 시점 기준으로 업무 시작, 종료를 입력하는 함수\n",
    "    def work_start(self, start_time = None):\n",
    "        input_time = datetime.datetime.now()\n",
    "\n",
    "        input_weekday = self.days_dic[input_time.isoweekday()]\n",
    "        input_weeknum = input_time.isocalendar().week\n",
    "        input_day = datetime.datetime.strftime(input_time, '%Y%m%d')\n",
    "        input_time = datetime.datetime.strftime(input_time, '%Y-%m-%d %H:%M')\n",
    "        \n",
    "        self.work_time_table.loc[len(self.work_time_table)] =\\\n",
    "        [input_day, input_weeknum, input_weekday, input_time, np.nan, np.nan, self.rest_time]\n",
    "        \n",
    "        return\n",
    "        \n",
    "    def work_end(self, end_time = None):\n",
    "        input_time = datetime.datetime.now()\n",
    "        \n",
    "        input_day = datetime.datetime.strftime(input_time, '%Y%m%d')\n",
    "        input_time = datetime.datetime.strftime(input_time, '%Y-%m-%d %H:%M')\n",
    "        \n",
    "        # spend time 게산\n",
    "        start_time = self.work_time_table.loc[self.work_time_table['date'] == input_day]['start_time'].values[0]\n",
    "        \n",
    "        start_time = datetime.datetime.fromisoformat(start_time)\n",
    "        end_time = datetime.datetime.fromisoformat(input_time)\n",
    "        \n",
    "        spend_time = end_time - start_time - datetime.timedelta(hours = 1)\n",
    "        spend_time = spend_time.total_seconds()\n",
    "        \n",
    "        # 한시간을 안넘을 경우, - 값이 나와서 값이 정확하게 안나옴\n",
    "        spend_hours = int(spend_time // 3600)\n",
    "        spend_minutes = int((spend_time % 3600) // 60)\n",
    "        \n",
    "        spend_time = f'{spend_hours:02d}:{spend_minutes:02d}'\n",
    "        \n",
    "        # input\n",
    "        self.work_time_table.loc[self.work_time_table['date'] == input_day, ('end_time', 'spend_time')] = (input_time, spend_time)\n",
    "        \n",
    "        return\n",
    "    \n",
    "    \n",
    "    def insert_work_time(self, start_time, end_time = '', rest_time = 1, input_day = None): # time은 HH:MM 형태의 스트링으로 입력\n",
    "        # 날짜 계산\n",
    "        if input_day == None:\n",
    "            input_day = datetime.datetime.now()\n",
    "\n",
    "            input_weekday = days_dic[input_day.isoweekday()]\n",
    "            input_weeknum = input_day.isocalendar().week\n",
    "            input_day = datetime.datetime.strftime(input_day, '%Y%m%d')\n",
    "\n",
    "        else:\n",
    "            input_weekday = days_dic[datetime.datetime.strptime(input_day, '%Y%m%d').isoweekday()]\n",
    "            input_weeknum = input_day.isocalendar().week\n",
    "\n",
    "        # 시간 계산\n",
    "        if end_time == '': # 퇴근 시간을 입력하지 않을 경우 현재 시점으로 계산\n",
    "            end_time = datetime.datetime.now()\n",
    "#             end_time ="
   ]
  },
  {
   "cell_type": "code",
   "execution_count": 238,
   "id": "20b04087",
   "metadata": {},
   "outputs": [],
   "source": [
    "a = working_time_calculator()"
   ]
  },
  {
   "cell_type": "code",
   "execution_count": 239,
   "id": "547409bc",
   "metadata": {},
   "outputs": [],
   "source": [
    "a.work_start()"
   ]
  },
  {
   "cell_type": "code",
   "execution_count": 243,
   "id": "6f7afc8c",
   "metadata": {},
   "outputs": [],
   "source": [
    "a.work_end()"
   ]
  },
  {
   "cell_type": "code",
   "execution_count": 244,
   "id": "7142f9f6",
   "metadata": {},
   "outputs": [
    {
     "data": {
      "text/html": [
       "<div>\n",
       "<style scoped>\n",
       "    .dataframe tbody tr th:only-of-type {\n",
       "        vertical-align: middle;\n",
       "    }\n",
       "\n",
       "    .dataframe tbody tr th {\n",
       "        vertical-align: top;\n",
       "    }\n",
       "\n",
       "    .dataframe thead th {\n",
       "        text-align: right;\n",
       "    }\n",
       "</style>\n",
       "<table border=\"1\" class=\"dataframe\">\n",
       "  <thead>\n",
       "    <tr style=\"text-align: right;\">\n",
       "      <th></th>\n",
       "      <th>date</th>\n",
       "      <th>week_num</th>\n",
       "      <th>weekday</th>\n",
       "      <th>start_time</th>\n",
       "      <th>end_time</th>\n",
       "      <th>spend_time</th>\n",
       "      <th>rest_time</th>\n",
       "    </tr>\n",
       "  </thead>\n",
       "  <tbody>\n",
       "    <tr>\n",
       "      <th>0</th>\n",
       "      <td>20240430</td>\n",
       "      <td>18</td>\n",
       "      <td>화요일</td>\n",
       "      <td>2024-04-30 16:46</td>\n",
       "      <td>2024-04-30 16:47</td>\n",
       "      <td>-1:01</td>\n",
       "      <td>1</td>\n",
       "    </tr>\n",
       "  </tbody>\n",
       "</table>\n",
       "</div>"
      ],
      "text/plain": [
       "       date  week_num weekday        start_time          end_time spend_time  \\\n",
       "0  20240430        18     화요일  2024-04-30 16:46  2024-04-30 16:47      -1:01   \n",
       "\n",
       "   rest_time  \n",
       "0          1  "
      ]
     },
     "execution_count": 244,
     "metadata": {},
     "output_type": "execute_result"
    }
   ],
   "source": [
    "a.work_time_table"
   ]
  },
  {
   "cell_type": "code",
   "execution_count": null,
   "id": "d3753057",
   "metadata": {},
   "outputs": [],
   "source": []
  },
  {
   "cell_type": "code",
   "execution_count": null,
   "id": "075d1035",
   "metadata": {},
   "outputs": [],
   "source": []
  },
  {
   "cell_type": "code",
   "execution_count": null,
   "id": "c5d98f08",
   "metadata": {},
   "outputs": [],
   "source": []
  },
  {
   "cell_type": "code",
   "execution_count": null,
   "id": "d1eb339f",
   "metadata": {},
   "outputs": [],
   "source": []
  },
  {
   "cell_type": "code",
   "execution_count": null,
   "id": "cfbac50a",
   "metadata": {},
   "outputs": [],
   "source": []
  },
  {
   "cell_type": "code",
   "execution_count": 135,
   "id": "5f448d48",
   "metadata": {},
   "outputs": [],
   "source": [
    "def work_time(start_time, finish_time, break_time): # HH:MM 형태의 스트링으로 입력\n",
    "    if finish_time == '':\n",
    "        finish_time = datetime.datetime.now()\n",
    "        finish_time = f'{finish_time.hour:02d}:{finish_time.minute}'\n",
    "                \n",
    "    finish_time = datetime.timedelta(\n",
    "                                        hours = int(finish_time.split(':')[0]),\n",
    "                                        minutes = int(finish_time.split(':')[1])\n",
    "    )\n",
    "    \n",
    "    start_time = datetime.timedelta(\n",
    "                                        hours = int(start_time.split(':')[0]),\n",
    "                                        minutes = int(start_time.split(':')[1])\n",
    "    )\n",
    "    \n",
    "    break_time = datetime.timedelta(hours = break_time)\n",
    "\n",
    "    spend_time = finish_time - start_time - break_time\n",
    "    \n",
    "    return spend_time"
   ]
  },
  {
   "cell_type": "code",
   "execution_count": 132,
   "id": "d9f3f5df",
   "metadata": {},
   "outputs": [],
   "source": [
    "# day = \n",
    "day =  '수요일'"
   ]
  },
  {
   "cell_type": "code",
   "execution_count": null,
   "id": "16dc4d3c",
   "metadata": {},
   "outputs": [],
   "source": []
  },
  {
   "cell_type": "code",
   "execution_count": null,
   "id": "9beb0017",
   "metadata": {},
   "outputs": [],
   "source": []
  },
  {
   "cell_type": "code",
   "execution_count": 138,
   "id": "d033c480",
   "metadata": {},
   "outputs": [],
   "source": [
    "# start_time = input('출근 시간을 입력하세요(HH:MM).')\n",
    "# finish_time = input('퇴근 시간을 입력하세요(HH:MM).')\n",
    "# break_time = 1\n",
    "\n",
    "spend_time = work_time(start_time, finish_time, break_time)\n",
    "\n",
    "# 포맷화\n",
    "# spend_time = f\"{int(str(spend_time).split(':')[0]):02d}:{str(spend_time).split(':')[1]}\""
   ]
  },
  {
   "cell_type": "code",
   "execution_count": 142,
   "id": "be3c7cbd",
   "metadata": {},
   "outputs": [
    {
     "data": {
      "text/plain": [
       "datetime.timedelta(seconds=18960)"
      ]
     },
     "execution_count": 142,
     "metadata": {},
     "output_type": "execute_result"
    }
   ],
   "source": [
    "spend_time"
   ]
  },
  {
   "cell_type": "code",
   "execution_count": null,
   "id": "0bcbdcde",
   "metadata": {},
   "outputs": [],
   "source": [
    "work_"
   ]
  },
  {
   "cell_type": "code",
   "execution_count": null,
   "id": "101e579c",
   "metadata": {},
   "outputs": [],
   "source": []
  },
  {
   "cell_type": "code",
   "execution_count": null,
   "id": "13ee6de9",
   "metadata": {},
   "outputs": [],
   "source": []
  },
  {
   "cell_type": "code",
   "execution_count": 133,
   "id": "fd4ab0b4",
   "metadata": {},
   "outputs": [
    {
     "ename": "KeyError",
     "evalue": "'요일'",
     "output_type": "error",
     "traceback": [
      "\u001b[1;31m---------------------------------------------------------------------------\u001b[0m",
      "\u001b[1;31mKeyError\u001b[0m                                  Traceback (most recent call last)",
      "File \u001b[1;32m~\\anaconda3\\Lib\\site-packages\\pandas\\core\\indexes\\base.py:3802\u001b[0m, in \u001b[0;36mIndex.get_loc\u001b[1;34m(self, key, method, tolerance)\u001b[0m\n\u001b[0;32m   3801\u001b[0m \u001b[38;5;28;01mtry\u001b[39;00m:\n\u001b[1;32m-> 3802\u001b[0m     \u001b[38;5;28;01mreturn\u001b[39;00m \u001b[38;5;28mself\u001b[39m\u001b[38;5;241m.\u001b[39m_engine\u001b[38;5;241m.\u001b[39mget_loc(casted_key)\n\u001b[0;32m   3803\u001b[0m \u001b[38;5;28;01mexcept\u001b[39;00m \u001b[38;5;167;01mKeyError\u001b[39;00m \u001b[38;5;28;01mas\u001b[39;00m err:\n",
      "File \u001b[1;32m~\\anaconda3\\Lib\\site-packages\\pandas\\_libs\\index.pyx:138\u001b[0m, in \u001b[0;36mpandas._libs.index.IndexEngine.get_loc\u001b[1;34m()\u001b[0m\n",
      "File \u001b[1;32m~\\anaconda3\\Lib\\site-packages\\pandas\\_libs\\index.pyx:165\u001b[0m, in \u001b[0;36mpandas._libs.index.IndexEngine.get_loc\u001b[1;34m()\u001b[0m\n",
      "File \u001b[1;32mpandas\\_libs\\hashtable_class_helper.pxi:5745\u001b[0m, in \u001b[0;36mpandas._libs.hashtable.PyObjectHashTable.get_item\u001b[1;34m()\u001b[0m\n",
      "File \u001b[1;32mpandas\\_libs\\hashtable_class_helper.pxi:5753\u001b[0m, in \u001b[0;36mpandas._libs.hashtable.PyObjectHashTable.get_item\u001b[1;34m()\u001b[0m\n",
      "\u001b[1;31mKeyError\u001b[0m: '요일'",
      "\nThe above exception was the direct cause of the following exception:\n",
      "\u001b[1;31mKeyError\u001b[0m                                  Traceback (most recent call last)",
      "Cell \u001b[1;32mIn[133], line 8\u001b[0m\n\u001b[0;32m      5\u001b[0m     day \u001b[38;5;241m=\u001b[39m now\u001b[38;5;241m.\u001b[39mweekday()\n\u001b[0;32m      6\u001b[0m     day \u001b[38;5;241m=\u001b[39m days_dic[day]\n\u001b[1;32m----> 8\u001b[0m work_time_table \u001b[38;5;241m=\u001b[39m work_time_table\u001b[38;5;241m.\u001b[39mloc[work_time_table[\u001b[38;5;124m'\u001b[39m\u001b[38;5;124m요일\u001b[39m\u001b[38;5;124m'\u001b[39m] \u001b[38;5;241m!=\u001b[39m day]\n\u001b[0;32m     10\u001b[0m start_time \u001b[38;5;241m=\u001b[39m \u001b[38;5;28minput\u001b[39m(\u001b[38;5;124m'\u001b[39m\u001b[38;5;124m출근 시간을 입력하세요(HH:MM).\u001b[39m\u001b[38;5;124m'\u001b[39m)\n\u001b[0;32m     11\u001b[0m finish_time \u001b[38;5;241m=\u001b[39m \u001b[38;5;28minput\u001b[39m(\u001b[38;5;124m'\u001b[39m\u001b[38;5;124m퇴근 시간을 입력하세요(HH:MM).\u001b[39m\u001b[38;5;124m'\u001b[39m)\n",
      "File \u001b[1;32m~\\anaconda3\\Lib\\site-packages\\pandas\\core\\frame.py:3807\u001b[0m, in \u001b[0;36mDataFrame.__getitem__\u001b[1;34m(self, key)\u001b[0m\n\u001b[0;32m   3805\u001b[0m \u001b[38;5;28;01mif\u001b[39;00m \u001b[38;5;28mself\u001b[39m\u001b[38;5;241m.\u001b[39mcolumns\u001b[38;5;241m.\u001b[39mnlevels \u001b[38;5;241m>\u001b[39m \u001b[38;5;241m1\u001b[39m:\n\u001b[0;32m   3806\u001b[0m     \u001b[38;5;28;01mreturn\u001b[39;00m \u001b[38;5;28mself\u001b[39m\u001b[38;5;241m.\u001b[39m_getitem_multilevel(key)\n\u001b[1;32m-> 3807\u001b[0m indexer \u001b[38;5;241m=\u001b[39m \u001b[38;5;28mself\u001b[39m\u001b[38;5;241m.\u001b[39mcolumns\u001b[38;5;241m.\u001b[39mget_loc(key)\n\u001b[0;32m   3808\u001b[0m \u001b[38;5;28;01mif\u001b[39;00m is_integer(indexer):\n\u001b[0;32m   3809\u001b[0m     indexer \u001b[38;5;241m=\u001b[39m [indexer]\n",
      "File \u001b[1;32m~\\anaconda3\\Lib\\site-packages\\pandas\\core\\indexes\\base.py:3804\u001b[0m, in \u001b[0;36mIndex.get_loc\u001b[1;34m(self, key, method, tolerance)\u001b[0m\n\u001b[0;32m   3802\u001b[0m     \u001b[38;5;28;01mreturn\u001b[39;00m \u001b[38;5;28mself\u001b[39m\u001b[38;5;241m.\u001b[39m_engine\u001b[38;5;241m.\u001b[39mget_loc(casted_key)\n\u001b[0;32m   3803\u001b[0m \u001b[38;5;28;01mexcept\u001b[39;00m \u001b[38;5;167;01mKeyError\u001b[39;00m \u001b[38;5;28;01mas\u001b[39;00m err:\n\u001b[1;32m-> 3804\u001b[0m     \u001b[38;5;28;01mraise\u001b[39;00m \u001b[38;5;167;01mKeyError\u001b[39;00m(key) \u001b[38;5;28;01mfrom\u001b[39;00m \u001b[38;5;21;01merr\u001b[39;00m\n\u001b[0;32m   3805\u001b[0m \u001b[38;5;28;01mexcept\u001b[39;00m \u001b[38;5;167;01mTypeError\u001b[39;00m:\n\u001b[0;32m   3806\u001b[0m     \u001b[38;5;66;03m# If we have a listlike key, _check_indexing_error will raise\u001b[39;00m\n\u001b[0;32m   3807\u001b[0m     \u001b[38;5;66;03m#  InvalidIndexError. Otherwise we fall through and re-raise\u001b[39;00m\n\u001b[0;32m   3808\u001b[0m     \u001b[38;5;66;03m#  the TypeError.\u001b[39;00m\n\u001b[0;32m   3809\u001b[0m     \u001b[38;5;28mself\u001b[39m\u001b[38;5;241m.\u001b[39m_check_indexing_error(key)\n",
      "\u001b[1;31mKeyError\u001b[0m: '요일'"
     ]
    }
   ],
   "source": [
    "now = datetime.datetime.now()\n",
    "\n",
    "today = now.strftime('%Y%m%d')\n",
    "if day == None:\n",
    "    day = now.weekday()\n",
    "    day = days_dic[day]\n",
    "    \n",
    "work_time_table = work_time_table.loc[work_time_table['요일'] != day]\n",
    "\n",
    "start_time = input('출근 시간을 입력하세요(HH:MM).')\n",
    "finish_time = input('퇴근 시간을 입력하세요(HH:MM).')\n",
    "break_time = 1\n",
    "\n",
    "spend_time = work_time(start_time, finish_time, break_time)\n",
    "\n",
    "# 포맷화\n",
    "spend_time = f\"{int(str(spend_time).split(':')[0]):02d}:{str(spend_time).split(':')[1]}\"\n",
    "\n",
    "data = [today, day, start_time, finish_time, str(spend_time), break_time]\n",
    "\n",
    "work_time_table.loc[len(work_time_table)] = data"
   ]
  },
  {
   "cell_type": "code",
   "execution_count": 10,
   "id": "bdab0fb8",
   "metadata": {},
   "outputs": [
    {
     "data": {
      "text/html": [
       "<div>\n",
       "<style scoped>\n",
       "    .dataframe tbody tr th:only-of-type {\n",
       "        vertical-align: middle;\n",
       "    }\n",
       "\n",
       "    .dataframe tbody tr th {\n",
       "        vertical-align: top;\n",
       "    }\n",
       "\n",
       "    .dataframe thead th {\n",
       "        text-align: right;\n",
       "    }\n",
       "</style>\n",
       "<table border=\"1\" class=\"dataframe\">\n",
       "  <thead>\n",
       "    <tr style=\"text-align: right;\">\n",
       "      <th></th>\n",
       "      <th>일자</th>\n",
       "      <th>요일</th>\n",
       "      <th>출근시간</th>\n",
       "      <th>퇴근시간</th>\n",
       "      <th>근무시간</th>\n",
       "      <th>휴게시간</th>\n",
       "    </tr>\n",
       "  </thead>\n",
       "  <tbody>\n",
       "    <tr>\n",
       "      <th>0</th>\n",
       "      <td>20240418</td>\n",
       "      <td>월요일</td>\n",
       "      <td>09:43</td>\n",
       "      <td>20:19</td>\n",
       "      <td>09:36</td>\n",
       "      <td>1</td>\n",
       "    </tr>\n",
       "    <tr>\n",
       "      <th>1</th>\n",
       "      <td>20240418</td>\n",
       "      <td>화요일</td>\n",
       "      <td>09:44</td>\n",
       "      <td>18:02</td>\n",
       "      <td>07:18</td>\n",
       "      <td>1</td>\n",
       "    </tr>\n",
       "    <tr>\n",
       "      <th>2</th>\n",
       "      <td>20240418</td>\n",
       "      <td>수요일</td>\n",
       "      <td>09:43</td>\n",
       "      <td>20:08</td>\n",
       "      <td>09:25</td>\n",
       "      <td>1</td>\n",
       "    </tr>\n",
       "  </tbody>\n",
       "</table>\n",
       "</div>"
      ],
      "text/plain": [
       "         일자   요일   출근시간   퇴근시간   근무시간  휴게시간\n",
       "0  20240418  월요일  09:43  20:19  09:36     1\n",
       "1  20240418  화요일  09:44  18:02  07:18     1\n",
       "2  20240418  수요일  09:43  20:08  09:25     1"
      ]
     },
     "metadata": {},
     "output_type": "display_data"
    },
    {
     "name": "stdout",
     "output_type": "stream",
     "text": [
      "남은 근무 시간은 13:41 입니다.\n"
     ]
    }
   ],
   "source": [
    "display(work_time_table)\n",
    "\n",
    "spend_sum = work_time_table['근무시간'].apply(lambda x: datetime.timedelta(\n",
    "                                                            hours = int(x.split(':')[0]),\n",
    "                                                            minutes = int(x.split(':')[1])\n",
    "                           )).sum()\n",
    "\n",
    "left_time = work_time_week - spend_sum\n",
    "left_time_h = left_time.total_seconds() // 3600\n",
    "left_time_m = (left_time.total_seconds() % 3600) // 60\n",
    "\n",
    "print(f'남은 근무 시간은 {int(left_time_h):02d}:{int(left_time_m):02d} 입니다.')"
   ]
  },
  {
   "cell_type": "code",
   "execution_count": 2,
   "id": "30e2dee1",
   "metadata": {},
   "outputs": [
    {
     "name": "stdout",
     "output_type": "stream",
     "text": [
      "오늘의 퇴근 예정 시간은 16:55 입니다.\n"
     ]
    }
   ],
   "source": [
    "start_time = '09:42'\n",
    "time_plan = '6:13'\n",
    "\n",
    "start_hour = int(start_time.split(':')[0])\n",
    "start_minute = int(start_time.split(':')[1])\n",
    "start_time = datetime.timedelta(\n",
    "                                hours = start_hour,\n",
    "                                minutes = start_minute\n",
    ")\n",
    "\n",
    "plan_hour = int(time_plan.split(':')[0])\n",
    "plan_minute = int(time_plan.split(':')[1])\n",
    "plan_time = datetime.timedelta(\n",
    "                                hours = plan_hour,\n",
    "                                minutes = plan_minute\n",
    ")\n",
    "\n",
    "break_time = datetime.timedelta(hours = 1)\n",
    "\n",
    "finish_time = start_time + plan_time + break_time\n",
    "finish_time_h = finish_time.total_seconds() // 3600\n",
    "finish_time_m = (finish_time.total_seconds() % 3600) // 60\n",
    "print(f\"오늘의 퇴근 예정 시간은 {int(finish_time_h):02d}:{int(finish_time_m)} 입니다.\")"
   ]
  },
  {
   "cell_type": "code",
   "execution_count": 16,
   "id": "f036d3e1",
   "metadata": {},
   "outputs": [
    {
     "data": {
      "text/plain": [
       "260040.0"
      ]
     },
     "execution_count": 16,
     "metadata": {},
     "output_type": "execute_result"
    }
   ],
   "source": [
    "(datetime.timedelta(hours = 39, minutes = 33) + datetime.timedelta(hours = 32, minutes = 41)).total_seconds()"
   ]
  },
  {
   "cell_type": "code",
   "execution_count": 17,
   "id": "7b280dc9",
   "metadata": {},
   "outputs": [
    {
     "data": {
      "text/plain": [
       "72.0"
      ]
     },
     "execution_count": 17,
     "metadata": {},
     "output_type": "execute_result"
    }
   ],
   "source": [
    "260040.0 // 3600"
   ]
  },
  {
   "cell_type": "code",
   "execution_count": 22,
   "id": "db1ac1ea",
   "metadata": {},
   "outputs": [
    {
     "data": {
      "text/plain": [
       "14.0"
      ]
     },
     "execution_count": 22,
     "metadata": {},
     "output_type": "execute_result"
    }
   ],
   "source": [
    "(260040.0 % 3600) // 60"
   ]
  }
 ],
 "metadata": {
  "kernelspec": {
   "display_name": "Python 3 (ipykernel)",
   "language": "python",
   "name": "python3"
  },
  "language_info": {
   "codemirror_mode": {
    "name": "ipython",
    "version": 3
   },
   "file_extension": ".py",
   "mimetype": "text/x-python",
   "name": "python",
   "nbconvert_exporter": "python",
   "pygments_lexer": "ipython3",
   "version": "3.11.4"
  }
 },
 "nbformat": 4,
 "nbformat_minor": 5
}
